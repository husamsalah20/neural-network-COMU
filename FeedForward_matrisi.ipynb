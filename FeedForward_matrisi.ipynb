{
  "nbformat": 4,
  "nbformat_minor": 0,
  "metadata": {
    "colab": {
      "provenance": []
    },
    "kernelspec": {
      "name": "python3",
      "display_name": "Python 3"
    },
    "language_info": {
      "name": "python"
    }
  },
  "cells": [
    {
      "cell_type": "code",
      "execution_count": 1,
      "metadata": {
        "colab": {
          "base_uri": "https://localhost:8080/"
        },
        "id": "bwD9K3yTOQSg",
        "outputId": "02ac1e05-682b-450e-c4cd-cc2cba8552ab"
      },
      "outputs": [
        {
          "output_type": "stream",
          "name": "stdout",
          "text": [
            "tensor([[0.3414, 0.4518]])\n"
          ]
        }
      ],
      "source": [
        "import torch\n",
        "\n",
        "#Başlangıç durumunu tanımlama\n",
        "torch.manual_seed(1)\n",
        "\n",
        "#Aktivasyon fonksiyonlarını tanımlama\n",
        "def tanh(x):\n",
        "  return (torch.exp(x) - torch.exp(-x)) / (torch.exp(x) + torch.exp(-x))\n",
        "\n",
        "def sigmoid(x):\n",
        "  return 1 / (1 + torch.exp(-x))\n",
        "\n",
        "#Ağın boyutlarını tanımlama\n",
        "input_size = 3\n",
        "hidden_size = 50\n",
        "output_size = 1\n",
        "\n",
        "#Girdi matrisini tanımlama ve tensöre dönüştürme\n",
        "X = torch.tensor([[1, 2, 3], [4, 5, 6]], dtype=torch.float32)\n",
        "\n",
        "#Ağırlıkları ve biasları tanımlama\n",
        "W1 = torch.randn(hidden_size, input_size)\n",
        "b1 = torch.randn(hidden_size, 1)\n",
        "W2 = torch.randn(output_size, hidden_size)\n",
        "b2 = torch.randn(output_size, 1)\n",
        "\n",
        "#İleri besleme yapma\n",
        "gizli_katman = tanh(torch.mm(W1, X.t()) + b1)\n",
        "cikti_katmani = sigmoid(torch.mm(W2, gizli_katman) + b2)\n",
        "\n",
        "#Çıktı katmanını yazdırma\n",
        "print(cikti_katmani)"
      ]
    }
  ]
}